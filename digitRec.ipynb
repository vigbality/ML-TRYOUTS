{
  "nbformat": 4,
  "nbformat_minor": 0,
  "metadata": {
    "colab": {
      "name": "digitRec.ipynb",
      "provenance": [],
      "authorship_tag": "ABX9TyNv6uK42al+seHzvaqQ0TKX",
      "include_colab_link": true
    },
    "kernelspec": {
      "name": "python3",
      "display_name": "Python 3"
    },
    "language_info": {
      "name": "python"
    }
  },
  "cells": [
    {
      "cell_type": "markdown",
      "metadata": {
        "id": "view-in-github",
        "colab_type": "text"
      },
      "source": [
        "<a href=\"https://colab.research.google.com/github/vigbality/ML-TRYOUTS/blob/main/digitRec.ipynb\" target=\"_parent\"><img src=\"https://colab.research.google.com/assets/colab-badge.svg\" alt=\"Open In Colab\"/></a>"
      ]
    },
    {
      "cell_type": "code",
      "source": [
        "import tensorflow as tf # Import tensorflow library\n",
        "import matplotlib.pyplot as plt # Import matplotlib library\n",
        "import numpy as np\n",
        "mnist = tf.keras.datasets.mnist # Object of the MNIST dataset\n",
        "(x_train, y_train),(x_test, y_test) = mnist.load_data() # Load data\n",
        "# # Normalize the train dataset\n",
        "x_train = tf.keras.utils.normalize(x_train, axis=1)\n",
        "# # Normalize the test dataset\n",
        "x_test = tf.keras.utils.normalize(x_test, axis=1)\n",
        "# plt.imshow(x_train[1],cmap='gray') # Import the image\n",
        "# plt.show() # Plot the image\n",
        "#Build the model object\n",
        "model = tf.keras.models.Sequential()\n",
        "# Add the Flatten Layer\n",
        "model.add(tf.keras.layers.Flatten())\n",
        "# Build the input and the hidden layers\n",
        "model.add(tf.keras.layers.Dense(420, activation=tf.nn.relu))\n",
        "model.add(tf.keras.layers.Dense(420, activation=tf.nn.relu))\n",
        "# Build the output layer\n",
        "model.add(tf.keras.layers.Dense(10, activation=tf.nn.softmax))\n",
        "model.compile(optimizer=\"adam\", loss=\"sparse_categorical_crossentropy\", metrics=[\"accuracy\"])\n",
        "model.fit(x=x_train, y=y_train, epochs=5)\n"
      ],
      "metadata": {
        "colab": {
          "base_uri": "https://localhost:8080/"
        },
        "id": "NRnJk3Ww0Dy1",
        "outputId": "3068d545-2bd8-4cab-9848-7ed6f06bbf52"
      },
      "execution_count": 87,
      "outputs": [
        {
          "output_type": "stream",
          "name": "stdout",
          "text": [
            "Epoch 1/5\n",
            "1875/1875 [==============================] - 14s 7ms/step - loss: 0.2039 - accuracy: 0.9381\n",
            "Epoch 2/5\n",
            "1875/1875 [==============================] - 13s 7ms/step - loss: 0.0841 - accuracy: 0.9736\n",
            "Epoch 3/5\n",
            "1875/1875 [==============================] - 13s 7ms/step - loss: 0.0572 - accuracy: 0.9818\n",
            "Epoch 4/5\n",
            "1875/1875 [==============================] - 13s 7ms/step - loss: 0.0396 - accuracy: 0.9874\n",
            "Epoch 5/5\n",
            "1875/1875 [==============================] - 13s 7ms/step - loss: 0.0306 - accuracy: 0.9902\n"
          ]
        },
        {
          "output_type": "execute_result",
          "data": {
            "text/plain": [
              "<keras.callbacks.History at 0x7f9bdc422d90>"
            ]
          },
          "metadata": {},
          "execution_count": 87
        }
      ]
    },
    {
      "cell_type": "code",
      "source": [
        "# Evaluate the model performance\n",
        "test_loss, test_acc = model.evaluate(x=x_test, y=y_test)\n",
        "# Print out the model accuracy \n",
        "print('\\nTest accuracy:', test_acc)"
      ],
      "metadata": {
        "colab": {
          "base_uri": "https://localhost:8080/"
        },
        "id": "osD-Ks2wHkDp",
        "outputId": "71660c34-e744-46f0-ad18-f817a46ce4a8"
      },
      "execution_count": 88,
      "outputs": [
        {
          "output_type": "stream",
          "name": "stdout",
          "text": [
            "313/313 [==============================] - 1s 4ms/step - loss: 0.0900 - accuracy: 0.9756\n",
            "\n",
            "Test accuracy: 0.975600004196167\n"
          ]
        }
      ]
    },
    {
      "cell_type": "code",
      "source": [
        "predictions = model.predict([x_test]) # Make prediction\n",
        "print(np.argmax(predictions[68])) # Print out the number\n",
        "plt.imshow(x_test[68])\n",
        "plt.show()"
      ],
      "metadata": {
        "colab": {
          "base_uri": "https://localhost:8080/",
          "height": 282
        },
        "id": "dYlRn-N7HoZh",
        "outputId": "24b76753-6c99-4122-84e9-f051c0f4f06b"
      },
      "execution_count": 74,
      "outputs": [
        {
          "output_type": "stream",
          "name": "stdout",
          "text": [
            "3\n"
          ]
        },
        {
          "output_type": "display_data",
          "data": {
            "text/plain": [
              "<Figure size 432x288 with 1 Axes>"
            ],
            "image/png": "[encoded data removed]"
          },
          "metadata": {
            "needs_background": "light"
          }
        }
      ]
    },
    {
      "cell_type": "code",
      "source": [
        "import cv2\n",
        "img = cv2.imread('lmao6.png')\n",
        "img = cv2.resize(img,(28,28),interpolation = cv2.INTER_AREA)\n",
        "img = cv2.cvtColor(img, cv2.COLOR_RGB2GRAY)\n",
        "img = tf.keras.utils.normalize(img, axis=1)\n",
        "plt.imshow(img,cmap='gray')\n",
        "plt.show()\n",
        "img = np.expand_dims(img, axis=0)\n",
        "# print(img)\n",
        "# print(img.shape)\n",
        "result = model.predict([img])\n",
        "print(result)\n",
        "print(np.argmax(result))\n"
      ],
      "metadata": {
        "colab": {
          "base_uri": "https://localhost:8080/",
          "height": 354
        },
        "id": "JvC2FpQOKLbS",
        "outputId": "09abce98-fe76-4bdb-ca25-eef647bf84ac"
      },
      "execution_count": 89,
      "outputs": [
        {
          "output_type": "display_data",
          "data": {
            "text/plain": [
              "<Figure size 432x288 with 1 Axes>"
            ],
            "image/png": "[encoded data removed]"
          },
          "metadata": {
            "needs_background": "light"
          }
        },
        {
          "output_type": "stream",
          "name": "stdout",
          "text": [
            "WARNING:tensorflow:Layers in a Sequential model should only have a single input tensor. Received: inputs=(<tf.Tensor 'IteratorGetNext:0' shape=(None, 28, 28) dtype=float32>,). Consider rewriting this model with the Functional API.\n",
            "[[1.2905877e-04 6.4829881e-03 5.4147531e-04 9.7633344e-01 4.0557003e-05\n",
            "  2.1864669e-04 7.2416219e-06 3.7966466e-03 1.0984364e-02 1.4655333e-03]]\n",
            "3\n"
          ]
        }
      ]
    },
    {
      "cell_type": "code",
      "source": [
        "import cv2\n",
        "img = cv2.imread('lmao2.png')\n",
        "img = cv2.resize(img,(28,28),interpolation = cv2.INTER_AREA)\n",
        "img = cv2.cvtColor(img, cv2.COLOR_RGB2GRAY)\n",
        "img = tf.keras.utils.normalize(img, axis=1)\n",
        "plt.imshow(img,cmap='gray')\n",
        "plt.show()\n",
        "img = np.expand_dims(img, axis=0)\n",
        "# print(img)\n",
        "# print(img.shape)\n",
        "result = model.predict([img])\n",
        "print(result)\n",
        "print(np.argmax(result))\n"
      ],
      "metadata": {
        "colab": {
          "base_uri": "https://localhost:8080/",
          "height": 317
        },
        "id": "vC4kLxWJROZV",
        "outputId": "62fb6640-8623-44a1-efa2-19f1b7a14ae6"
      },
      "execution_count": 90,
      "outputs": [
        {
          "output_type": "display_data",
          "data": {
            "text/plain": [
              "<Figure size 432x288 with 1 Axes>"
            ],
            "image/png": "[encoded data removed]"
          },
          "metadata": {
            "needs_background": "light"
          }
        },
        {
          "output_type": "stream",
          "name": "stdout",
          "text": [
            "[[0.37969851 0.00626393 0.00078722 0.03661161 0.01175804 0.11058118\n",
            "  0.33426768 0.00629491 0.0737122  0.04002466]]\n",
            "0\n"
          ]
        }
      ]
    }
  ]
}